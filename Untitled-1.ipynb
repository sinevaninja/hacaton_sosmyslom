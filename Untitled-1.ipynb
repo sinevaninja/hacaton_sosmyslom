{
 "cells": [
  {
   "cell_type": "code",
   "execution_count": 15,
   "metadata": {},
   "outputs": [
    {
     "name": "stdout",
     "output_type": "stream",
     "text": [
      "<class 'pandas.core.frame.DataFrame'>\n",
      "RangeIndex: 7748 entries, 0 to 7747\n",
      "Data columns (total 7 columns):\n",
      " #   Column            Non-Null Count  Dtype \n",
      "---  ------            --------------  ----- \n",
      " 0   Disney_Period     7748 non-null   object\n",
      " 1   Text              7748 non-null   object\n",
      " 2   Speaker_Status    7748 non-null   object\n",
      " 3   Movie             7748 non-null   object\n",
      " 4   Speaker           7748 non-null   object\n",
      " 5   Year              7748 non-null   int64 \n",
      " 6   UTTERANCE_NUMBER  7748 non-null   int64 \n",
      "dtypes: int64(2), object(5)\n",
      "memory usage: 423.8+ KB\n"
     ]
    },
    {
     "data": {
      "text/html": [
       "<div>\n",
       "<style scoped>\n",
       "    .dataframe tbody tr th:only-of-type {\n",
       "        vertical-align: middle;\n",
       "    }\n",
       "\n",
       "    .dataframe tbody tr th {\n",
       "        vertical-align: top;\n",
       "    }\n",
       "\n",
       "    .dataframe thead th {\n",
       "        text-align: right;\n",
       "    }\n",
       "</style>\n",
       "<table border=\"1\" class=\"dataframe\">\n",
       "  <thead>\n",
       "    <tr style=\"text-align: right;\">\n",
       "      <th></th>\n",
       "      <th>Text</th>\n",
       "    </tr>\n",
       "  </thead>\n",
       "  <tbody>\n",
       "    <tr>\n",
       "      <th>0</th>\n",
       "      <td>slave in the magic mirror come from the farthe...</td>\n",
       "    </tr>\n",
       "    <tr>\n",
       "      <th>1</th>\n",
       "      <td>what wouldst thou know, my queen ?</td>\n",
       "    </tr>\n",
       "    <tr>\n",
       "      <th>2</th>\n",
       "      <td>magic mirror on the wall, who is the fairest o...</td>\n",
       "    </tr>\n",
       "    <tr>\n",
       "      <th>3</th>\n",
       "      <td>famed is thy beauty, majesty. but hold, a love...</td>\n",
       "    </tr>\n",
       "    <tr>\n",
       "      <th>4</th>\n",
       "      <td>alas for her ! reveal her name.</td>\n",
       "    </tr>\n",
       "    <tr>\n",
       "      <th>...</th>\n",
       "      <td>...</td>\n",
       "    </tr>\n",
       "    <tr>\n",
       "      <th>7743</th>\n",
       "      <td>we are never closing them again.</td>\n",
       "    </tr>\n",
       "    <tr>\n",
       "      <th>7744</th>\n",
       "      <td>form on anna's boots.</td>\n",
       "    </tr>\n",
       "    <tr>\n",
       "      <th>7745</th>\n",
       "      <td>what? oh, elsa, they're beautiful, but you kno...</td>\n",
       "    </tr>\n",
       "    <tr>\n",
       "      <th>7746</th>\n",
       "      <td>look out. reindeer coming through!</td>\n",
       "    </tr>\n",
       "    <tr>\n",
       "      <th>7747</th>\n",
       "      <td>that's it. glide and pivot and glide and pivot.</td>\n",
       "    </tr>\n",
       "  </tbody>\n",
       "</table>\n",
       "<p>7748 rows × 1 columns</p>\n",
       "</div>"
      ],
      "text/plain": [
       "                                                   Text\n",
       "0     slave in the magic mirror come from the farthe...\n",
       "1                   what wouldst thou know, my queen ? \n",
       "2     magic mirror on the wall, who is the fairest o...\n",
       "3     famed is thy beauty, majesty. but hold, a love...\n",
       "4                      alas for her ! reveal her name. \n",
       "...                                                 ...\n",
       "7743                  we are never closing them again. \n",
       "7744                              form on anna's boots.\n",
       "7745  what? oh, elsa, they're beautiful, but you kno...\n",
       "7746                look out. reindeer coming through! \n",
       "7747   that's it. glide and pivot and glide and pivot. \n",
       "\n",
       "[7748 rows x 1 columns]"
      ]
     },
     "execution_count": 15,
     "metadata": {},
     "output_type": "execute_result"
    }
   ],
   "source": [
    "import pandas as pd\n",
    "import csv\n",
    "\n",
    "df = pd.read_csv(\"princess_corpus.csv\")\n",
    "df.info()\n",
    "#df[\"Text\"].value_counts()\n",
    "texts = df[[\"Text\"]]\n",
    "texts"
   ]
  },
  {
   "cell_type": "code",
   "execution_count": 10,
   "metadata": {},
   "outputs": [
    {
     "name": "stderr",
     "output_type": "stream",
     "text": [
      "[nltk_data] Downloading package stopwords to\n",
      "[nltk_data]     C:\\Users\\Екатерина\\AppData\\Roaming\\nltk_data...\n",
      "[nltk_data]   Package stopwords is already up-to-date!\n"
     ]
    },
    {
     "data": {
      "text/plain": [
       "0       slave magic mirror come farthest space wind da...\n",
       "1                                 wouldst thou know queen\n",
       "2                           magic mirror wall fairest one\n",
       "3       famed thy beauty majesty hold lovely maid see ...\n",
       "4                                        alas reveal name\n",
       "                              ...                        \n",
       "7743                                        never closing\n",
       "7744                                      form anna boots\n",
       "7745                           oh elsa beautiful know ska\n",
       "7746                                 look reindeer coming\n",
       "7747                              glide pivot glide pivot\n",
       "Name: Text, Length: 7748, dtype: object"
      ]
     },
     "execution_count": 10,
     "metadata": {},
     "output_type": "execute_result"
    }
   ],
   "source": [
    "import pandas as pd\n",
    "from pymystem3 import Mystem\n",
    "import csv\n",
    "import nltk\n",
    "nltk.download('stopwords')\n",
    "from nltk.tokenize import wordpunct_tokenize\n",
    "from nltk.corpus import stopwords\n",
    "from pymorphy2 import MorphAnalyzer\n",
    "morph = MorphAnalyzer()\n",
    "\n",
    "df = pd.read_csv(\"princess_corpus.csv\")\n",
    "m = Mystem()\n",
    "sw = stopwords.words('english')\n",
    "nltk_stopwords_list = stopwords.words('english')\n",
    "lemmas = []\n",
    "\n",
    "def lemmatize(x):\n",
    "    if type(x) != str:\n",
    "        return \"\"\n",
    "    text = wordpunct_tokenize(x)\n",
    "    result = []\n",
    "    for word in text:\n",
    "        if word.isalpha():\n",
    "            nf = morph.parse(word)[0].normal_form\n",
    "            if nf not in sw:\n",
    "                result.append(nf)\n",
    "    return \" \".join(result)\n",
    "    \n",
    "text = ' '.join(df[\"Text\"].apply(lemmatize).values)\n",
    "\n",
    "texts = df[[\"Text\"]]\n",
    "df[\"Text\"].apply(lemmatize)\n",
    "b = df[\"Text\"].apply(lemmatize)"
   ]
  },
  {
   "cell_type": "code",
   "execution_count": 14,
   "metadata": {},
   "outputs": [
    {
     "ename": "AttributeError",
     "evalue": "'DataFrame' object has no attribute 'splitlines'",
     "output_type": "error",
     "traceback": [
      "\u001b[1;31m---------------------------------------------------------------------------\u001b[0m",
      "\u001b[1;31mAttributeError\u001b[0m                            Traceback (most recent call last)",
      "\u001b[1;32mc:\\Users\\Екатерина\\Desktop\\hacaton\\Untitled-1.ipynb Cell 3'\u001b[0m in \u001b[0;36m<module>\u001b[1;34m\u001b[0m\n\u001b[0;32m      <a href='vscode-notebook-cell:/c%3A/Users/%D0%95%D0%BA%D0%B0%D1%82%D0%B5%D1%80%D0%B8%D0%BD%D0%B0/Desktop/hacaton/Untitled-1.ipynb#ch0000002?line=0'>1</a>\u001b[0m \u001b[39mfrom\u001b[39;00m \u001b[39mpymystem3\u001b[39;00m \u001b[39mimport\u001b[39;00m Mystem\n\u001b[0;32m      <a href='vscode-notebook-cell:/c%3A/Users/%D0%95%D0%BA%D0%B0%D1%82%D0%B5%D1%80%D0%B8%D0%BD%D0%B0/Desktop/hacaton/Untitled-1.ipynb#ch0000002?line=2'>3</a>\u001b[0m m \u001b[39m=\u001b[39m Mystem()\n\u001b[1;32m----> <a href='vscode-notebook-cell:/c%3A/Users/%D0%95%D0%BA%D0%B0%D1%82%D0%B5%D1%80%D0%B8%D0%BD%D0%B0/Desktop/hacaton/Untitled-1.ipynb#ch0000002?line=4'>5</a>\u001b[0m ana \u001b[39m=\u001b[39m m\u001b[39m.\u001b[39;49manalyze(texts)\n\u001b[0;32m      <a href='vscode-notebook-cell:/c%3A/Users/%D0%95%D0%BA%D0%B0%D1%82%D0%B5%D1%80%D0%B8%D0%BD%D0%B0/Desktop/hacaton/Untitled-1.ipynb#ch0000002?line=5'>6</a>\u001b[0m \u001b[39mprint\u001b[39m(ana)\n\u001b[0;32m      <a href='vscode-notebook-cell:/c%3A/Users/%D0%95%D0%BA%D0%B0%D1%82%D0%B5%D1%80%D0%B8%D0%BD%D0%B0/Desktop/hacaton/Untitled-1.ipynb#ch0000002?line=7'>8</a>\u001b[0m \u001b[39mfor\u001b[39;00m word \u001b[39min\u001b[39;00m ana:\n",
      "File \u001b[1;32m~\\AppData\\Local\\Programs\\Python\\Python39\\lib\\site-packages\\pymystem3\\mystem.py:249\u001b[0m, in \u001b[0;36mMystem.analyze\u001b[1;34m(self, text)\u001b[0m\n\u001b[0;32m    <a href='file:///~/AppData/Local/Programs/Python/Python39/lib/site-packages/pymystem3/mystem.py?line=238'>239</a>\u001b[0m \u001b[39m\"\"\"\u001b[39;00m\n\u001b[0;32m    <a href='file:///~/AppData/Local/Programs/Python/Python39/lib/site-packages/pymystem3/mystem.py?line=239'>240</a>\u001b[0m \u001b[39mMake morphology analysis for a text.\u001b[39;00m\n\u001b[0;32m    <a href='file:///~/AppData/Local/Programs/Python/Python39/lib/site-packages/pymystem3/mystem.py?line=240'>241</a>\u001b[0m \n\u001b[1;32m   (...)\u001b[0m\n\u001b[0;32m    <a href='file:///~/AppData/Local/Programs/Python/Python39/lib/site-packages/pymystem3/mystem.py?line=244'>245</a>\u001b[0m \u001b[39m:rtype:         dict\u001b[39;00m\n\u001b[0;32m    <a href='file:///~/AppData/Local/Programs/Python/Python39/lib/site-packages/pymystem3/mystem.py?line=245'>246</a>\u001b[0m \u001b[39m\"\"\"\u001b[39;00m\n\u001b[0;32m    <a href='file:///~/AppData/Local/Programs/Python/Python39/lib/site-packages/pymystem3/mystem.py?line=247'>248</a>\u001b[0m result \u001b[39m=\u001b[39m []\n\u001b[1;32m--> <a href='file:///~/AppData/Local/Programs/Python/Python39/lib/site-packages/pymystem3/mystem.py?line=248'>249</a>\u001b[0m \u001b[39mfor\u001b[39;00m line \u001b[39min\u001b[39;00m text\u001b[39m.\u001b[39;49msplitlines():\n\u001b[0;32m    <a href='file:///~/AppData/Local/Programs/Python/Python39/lib/site-packages/pymystem3/mystem.py?line=249'>250</a>\u001b[0m     result\u001b[39m.\u001b[39mextend(\u001b[39mself\u001b[39m\u001b[39m.\u001b[39m_analyze_impl(line))\n\u001b[0;32m    <a href='file:///~/AppData/Local/Programs/Python/Python39/lib/site-packages/pymystem3/mystem.py?line=250'>251</a>\u001b[0m \u001b[39mreturn\u001b[39;00m result\n",
      "File \u001b[1;32m~\\AppData\\Local\\Programs\\Python\\Python39\\lib\\site-packages\\pandas\\core\\generic.py:5487\u001b[0m, in \u001b[0;36mNDFrame.__getattr__\u001b[1;34m(self, name)\u001b[0m\n\u001b[0;32m   <a href='file:///~/AppData/Local/Programs/Python/Python39/lib/site-packages/pandas/core/generic.py?line=5479'>5480</a>\u001b[0m \u001b[39mif\u001b[39;00m (\n\u001b[0;32m   <a href='file:///~/AppData/Local/Programs/Python/Python39/lib/site-packages/pandas/core/generic.py?line=5480'>5481</a>\u001b[0m     name \u001b[39mnot\u001b[39;00m \u001b[39min\u001b[39;00m \u001b[39mself\u001b[39m\u001b[39m.\u001b[39m_internal_names_set\n\u001b[0;32m   <a href='file:///~/AppData/Local/Programs/Python/Python39/lib/site-packages/pandas/core/generic.py?line=5481'>5482</a>\u001b[0m     \u001b[39mand\u001b[39;00m name \u001b[39mnot\u001b[39;00m \u001b[39min\u001b[39;00m \u001b[39mself\u001b[39m\u001b[39m.\u001b[39m_metadata\n\u001b[0;32m   <a href='file:///~/AppData/Local/Programs/Python/Python39/lib/site-packages/pandas/core/generic.py?line=5482'>5483</a>\u001b[0m     \u001b[39mand\u001b[39;00m name \u001b[39mnot\u001b[39;00m \u001b[39min\u001b[39;00m \u001b[39mself\u001b[39m\u001b[39m.\u001b[39m_accessors\n\u001b[0;32m   <a href='file:///~/AppData/Local/Programs/Python/Python39/lib/site-packages/pandas/core/generic.py?line=5483'>5484</a>\u001b[0m     \u001b[39mand\u001b[39;00m \u001b[39mself\u001b[39m\u001b[39m.\u001b[39m_info_axis\u001b[39m.\u001b[39m_can_hold_identifiers_and_holds_name(name)\n\u001b[0;32m   <a href='file:///~/AppData/Local/Programs/Python/Python39/lib/site-packages/pandas/core/generic.py?line=5484'>5485</a>\u001b[0m ):\n\u001b[0;32m   <a href='file:///~/AppData/Local/Programs/Python/Python39/lib/site-packages/pandas/core/generic.py?line=5485'>5486</a>\u001b[0m     \u001b[39mreturn\u001b[39;00m \u001b[39mself\u001b[39m[name]\n\u001b[1;32m-> <a href='file:///~/AppData/Local/Programs/Python/Python39/lib/site-packages/pandas/core/generic.py?line=5486'>5487</a>\u001b[0m \u001b[39mreturn\u001b[39;00m \u001b[39mobject\u001b[39;49m\u001b[39m.\u001b[39;49m\u001b[39m__getattribute__\u001b[39;49m(\u001b[39mself\u001b[39;49m, name)\n",
      "\u001b[1;31mAttributeError\u001b[0m: 'DataFrame' object has no attribute 'splitlines'"
     ]
    }
   ],
   "source": [
    "from pymystem3 import Mystem\n",
    "\n",
    "m = Mystem()\n",
    "\n",
    "ana = m.analyze(texts)\n",
    "print(ana)\n",
    "\n",
    "for word in ana:\n",
    "    if 'analysis' in word:\n",
    "        gr = word['analysis'][0]['gr']\n",
    "        pos = gr.split('=')[0].split(',')[0]\n",
    "        print(word['text'], pos)"
   ]
  }
 ],
 "metadata": {
  "interpreter": {
   "hash": "224e8c9d3b0aefe966809e8ff5fa8dba9e64b2ef6eca36280fe7b242e74ba1ca"
  },
  "kernelspec": {
   "display_name": "Python 3.9.1 64-bit (system)",
   "language": "python",
   "name": "python3"
  },
  "language_info": {
   "codemirror_mode": {
    "name": "ipython",
    "version": 3
   },
   "file_extension": ".py",
   "mimetype": "text/x-python",
   "name": "python",
   "nbconvert_exporter": "python",
   "pygments_lexer": "ipython3",
   "version": "3.9.1"
  },
  "orig_nbformat": 4
 },
 "nbformat": 4,
 "nbformat_minor": 2
}
