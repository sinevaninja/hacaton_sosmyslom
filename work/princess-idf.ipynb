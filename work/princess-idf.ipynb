{
 "cells": [
  {
   "cell_type": "code",
   "execution_count": null,
   "metadata": {},
   "outputs": [],
   "source": [
    "from sklearn.feature_extraction.text import TfidfTransformer\n",
    "from sklearn.feature_extraction.text import CountVectorizer\n",
    "\n",
    "princessa = df.loc[df[\"Speaker_Status\"] == \"PRINCESS\"]\n",
    "princessa\n",
    "\n",
    "tfIdfTransformer = TfidfTransformer(use_idf=True)\n",
    "countVectorizer = CountVectorizer()\n",
    "wordCount = countVectorizer.fit_transform(princessa[\"Text\"])\n",
    "princessa_TfIdf = tfIdfTransformer.fit_transform(wordCount)\n",
    "dfnew = pd.DataFrame(newTfIdf[0].T.todense(\n",
    "), index=countVectorizer.get_feature_names(), columns=[\"TF-IDF\"])\n",
    "dfnew = dfnew.sort_values('TF-IDF', ascending=False)\n",
    "print(dfnew.head(25))\n",
    "\n",
    "princessa\n"
   ]
  },
  {
   "cell_type": "code",
   "execution_count": null,
   "metadata": {},
   "outputs": [],
   "source": [
    "from sklearn.feature_extraction.text import TfidfTransformer\n",
    "from sklearn.feature_extraction.text import CountVectorizer\n",
    "\n",
    "prince = df.loc[df[\"Speaker_Status\"] == \"PRINCE\"]\n",
    "prince\n",
    "\n",
    "tfIdfTransformer = TfidfTransformer(use_idf=True)\n",
    "countVectorizer = CountVectorizer()\n",
    "wordCount = countVectorizer.fit_transform(prince[\"Text\"])\n",
    "prince_TfIdf = tfIdfTransformer.fit_transform(wordCount)\n",
    "dfnew = pd.DataFrame(newTfIdf[0].T.todense(\n",
    "), index=countVectorizer.get_feature_names(), columns=[\"TF-IDF\"])\n",
    "dfnew = dfnew.sort_values('TF-IDF', ascending=False)\n",
    "print(dfnew.head(25))\n",
    "\n",
    "prince\n"
   ]
  }
 ],
 "metadata": {
  "language_info": {
   "name": "python"
  },
  "orig_nbformat": 4
 },
 "nbformat": 4,
 "nbformat_minor": 2
}
