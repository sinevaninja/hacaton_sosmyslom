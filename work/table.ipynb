{
 "cells": [
  {
   "cell_type": "code",
   "execution_count": null,
   "metadata": {},
   "outputs": [],
   "source": [
    "import matplotlib.pyplot as plt\n",
    "%matplotlib inline\n",
    "import seaborn as sns\n",
    "import pandas as pd\n",
    "import re\n",
    "import random\n",
    "random.seed = 23\n",
    "\n",
    "df2 = df.dropna(subset=[\"Speaker\"])\n",
    "df2.loc[:, \"Speaker\"] = df2[\"Speaker\"].apply(lambda x: x.strip().lower().capitalize())\n",
    "df2.loc[:, \"Text\"] = df2[\"Text\"]\n",
    "df2 = df2.groupby([\"Speaker\", \"Text\"], as_index=False).agg({\"POS\": list})\n",
    "df2"
   ]
  }
 ],
 "metadata": {
  "language_info": {
   "name": "python"
  },
  "orig_nbformat": 4
 },
 "nbformat": 4,
 "nbformat_minor": 2
}
