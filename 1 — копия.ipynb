{
 "cells": [
  {
   "cell_type": "code",
   "execution_count": 1,
   "metadata": {},
   "outputs": [
    {
     "data": {
      "text/html": [
       "<div>\n",
       "<style scoped>\n",
       "    .dataframe tbody tr th:only-of-type {\n",
       "        vertical-align: middle;\n",
       "    }\n",
       "\n",
       "    .dataframe tbody tr th {\n",
       "        vertical-align: top;\n",
       "    }\n",
       "\n",
       "    .dataframe thead th {\n",
       "        text-align: right;\n",
       "    }\n",
       "</style>\n",
       "<table border=\"1\" class=\"dataframe\">\n",
       "  <thead>\n",
       "    <tr style=\"text-align: right;\">\n",
       "      <th></th>\n",
       "      <th>Disney_Period</th>\n",
       "      <th>Text</th>\n",
       "      <th>Speaker_Status</th>\n",
       "      <th>Movie</th>\n",
       "      <th>Speaker</th>\n",
       "      <th>Year</th>\n",
       "      <th>UTTERANCE_NUMBER</th>\n",
       "    </tr>\n",
       "  </thead>\n",
       "  <tbody>\n",
       "    <tr>\n",
       "      <th>0</th>\n",
       "      <td>EARLY</td>\n",
       "      <td>slave in the magic mirror come from the farthe...</td>\n",
       "      <td>NON-P</td>\n",
       "      <td>Snow White</td>\n",
       "      <td>queen</td>\n",
       "      <td>1937</td>\n",
       "      <td>1</td>\n",
       "    </tr>\n",
       "    <tr>\n",
       "      <th>1</th>\n",
       "      <td>EARLY</td>\n",
       "      <td>what wouldst thou know, my queen ?</td>\n",
       "      <td>NON-P</td>\n",
       "      <td>Snow White</td>\n",
       "      <td>mirror</td>\n",
       "      <td>1937</td>\n",
       "      <td>2</td>\n",
       "    </tr>\n",
       "    <tr>\n",
       "      <th>2</th>\n",
       "      <td>EARLY</td>\n",
       "      <td>magic mirror on the wall, who is the fairest o...</td>\n",
       "      <td>NON-P</td>\n",
       "      <td>Snow White</td>\n",
       "      <td>queen</td>\n",
       "      <td>1937</td>\n",
       "      <td>3</td>\n",
       "    </tr>\n",
       "    <tr>\n",
       "      <th>3</th>\n",
       "      <td>EARLY</td>\n",
       "      <td>famed is thy beauty, majesty. but hold, a love...</td>\n",
       "      <td>NON-P</td>\n",
       "      <td>Snow White</td>\n",
       "      <td>mirror</td>\n",
       "      <td>1937</td>\n",
       "      <td>4</td>\n",
       "    </tr>\n",
       "    <tr>\n",
       "      <th>4</th>\n",
       "      <td>EARLY</td>\n",
       "      <td>alas for her ! reveal her name.</td>\n",
       "      <td>NON-P</td>\n",
       "      <td>Snow White</td>\n",
       "      <td>queen</td>\n",
       "      <td>1937</td>\n",
       "      <td>5</td>\n",
       "    </tr>\n",
       "  </tbody>\n",
       "</table>\n",
       "</div>"
      ],
      "text/plain": [
       "  Disney_Period                                               Text  \\\n",
       "0         EARLY  slave in the magic mirror come from the farthe...   \n",
       "1         EARLY                what wouldst thou know, my queen ?    \n",
       "2         EARLY  magic mirror on the wall, who is the fairest o...   \n",
       "3         EARLY  famed is thy beauty, majesty. but hold, a love...   \n",
       "4         EARLY                   alas for her ! reveal her name.    \n",
       "\n",
       "  Speaker_Status        Movie Speaker  Year  UTTERANCE_NUMBER  \n",
       "0          NON-P  Snow White    queen  1937                 1  \n",
       "1          NON-P  Snow White   mirror  1937                 2  \n",
       "2          NON-P  Snow White    queen  1937                 3  \n",
       "3          NON-P  Snow White   mirror  1937                 4  \n",
       "4          NON-P  Snow White    queen  1937                 5  "
      ]
     },
     "execution_count": 1,
     "metadata": {},
     "output_type": "execute_result"
    }
   ],
   "source": [
    "import pandas as pd\n",
    "df = pd.read_csv(\"princess_corpus.csv\")\n",
    "df.head()"
   ]
  },
  {
   "cell_type": "code",
   "execution_count": 12,
   "metadata": {},
   "outputs": [
    {
     "name": "stdout",
     "output_type": "stream",
     "text": [
      "showing info https://raw.githubusercontent.com/nltk/nltk_data/gh-pages/index.xml\n"
     ]
    },
    {
     "data": {
      "text/plain": [
       "True"
      ]
     },
     "execution_count": 12,
     "metadata": {},
     "output_type": "execute_result"
    }
   ],
   "source": [
    "import nltk\n",
    "nltk.download()"
   ]
  },
  {
   "cell_type": "code",
   "execution_count": 21,
   "metadata": {},
   "outputs": [],
   "source": [
    "from pymorphy2 import MorphAnalyzer\n",
    "from nltk import wordpunct_tokenize\n",
    "morph = MorphAnalyzer()"
   ]
  },
  {
   "cell_type": "code",
   "execution_count": 22,
   "metadata": {},
   "outputs": [],
   "source": [
    "from nltk.corpus import stopwords\n",
    "stops = set(stopwords.words('english'))"
   ]
  },
  {
   "cell_type": "code",
   "execution_count": 25,
   "metadata": {},
   "outputs": [],
   "source": [
    "def lemmatize(x):\n",
    "    if type(x) != str:\n",
    "        return \"\"\n",
    "    text = wordpunct_tokenize(x)\n",
    "    result = []\n",
    "    for word in text:\n",
    "        if word.isalpha():\n",
    "            nf = morph.parse(word)[0].normal_form\n",
    "            #if nf not in stops:\n",
    "            result.append(nf)\n",
    "    return \" \".join(result)"
   ]
  },
  {
   "cell_type": "code",
   "execution_count": 61,
   "metadata": {},
   "outputs": [
    {
     "name": "stderr",
     "output_type": "stream",
     "text": [
      "Installing mystem to C:\\Users\\User/.local/bin\\mystem.exe from http://download.cdn.yandex.net/mystem/mystem-3.1-win-64bit.zip\n"
     ]
    }
   ],
   "source": [
    "from pymystem3 import Mystem\n",
    "m = Mystem()"
   ]
  },
  {
   "cell_type": "code",
   "execution_count": 78,
   "metadata": {},
   "outputs": [],
   "source": [
    "def parse(x):\n",
    "    result = []\n",
    "    ana = nltk.pos_tag(x.split())\n",
    "    for tagged_token in ana:\n",
    "        result.append(tagged_token[1])\n",
    "    return ' '.join(result)"
   ]
  },
  {
   "cell_type": "code",
   "execution_count": 29,
   "metadata": {},
   "outputs": [],
   "source": [
    "def length(x):\n",
    "    return len(x)"
   ]
  },
  {
   "cell_type": "code",
   "execution_count": 30,
   "metadata": {},
   "outputs": [],
   "source": [
    "df['Length'] = (df['Text']).apply(length)"
   ]
  },
  {
   "cell_type": "code",
   "execution_count": 79,
   "metadata": {},
   "outputs": [
    {
     "data": {
      "text/html": [
       "<div>\n",
       "<style scoped>\n",
       "    .dataframe tbody tr th:only-of-type {\n",
       "        vertical-align: middle;\n",
       "    }\n",
       "\n",
       "    .dataframe tbody tr th {\n",
       "        vertical-align: top;\n",
       "    }\n",
       "\n",
       "    .dataframe thead th {\n",
       "        text-align: right;\n",
       "    }\n",
       "</style>\n",
       "<table border=\"1\" class=\"dataframe\">\n",
       "  <thead>\n",
       "    <tr style=\"text-align: right;\">\n",
       "      <th></th>\n",
       "      <th>Disney_Period</th>\n",
       "      <th>Text</th>\n",
       "      <th>Speaker_Status</th>\n",
       "      <th>Movie</th>\n",
       "      <th>Speaker</th>\n",
       "      <th>Year</th>\n",
       "      <th>UTTERANCE_NUMBER</th>\n",
       "      <th>Length</th>\n",
       "      <th>POS</th>\n",
       "    </tr>\n",
       "  </thead>\n",
       "  <tbody>\n",
       "    <tr>\n",
       "      <th>0</th>\n",
       "      <td>EARLY</td>\n",
       "      <td>slave in the magic mirror come from the farthe...</td>\n",
       "      <td>NON-P</td>\n",
       "      <td>Snow White</td>\n",
       "      <td>queen</td>\n",
       "      <td>1937</td>\n",
       "      <td>1</td>\n",
       "      <td>120</td>\n",
       "      <td>NN IN DT JJ NN VBN IN DT JJS NN IN NN CC NN NN...</td>\n",
       "    </tr>\n",
       "    <tr>\n",
       "      <th>1</th>\n",
       "      <td>EARLY</td>\n",
       "      <td>what wouldst thou know my queen</td>\n",
       "      <td>NON-P</td>\n",
       "      <td>Snow White</td>\n",
       "      <td>mirror</td>\n",
       "      <td>1937</td>\n",
       "      <td>2</td>\n",
       "      <td>31</td>\n",
       "      <td>WP VBZ NN VB PRP$ NN</td>\n",
       "    </tr>\n",
       "    <tr>\n",
       "      <th>2</th>\n",
       "      <td>EARLY</td>\n",
       "      <td>magic mirror on the wall who is the fairest on...</td>\n",
       "      <td>NON-P</td>\n",
       "      <td>Snow White</td>\n",
       "      <td>queen</td>\n",
       "      <td>1937</td>\n",
       "      <td>3</td>\n",
       "      <td>54</td>\n",
       "      <td>JJ NN IN DT NN WP VBZ DT JJS CD IN DT</td>\n",
       "    </tr>\n",
       "    <tr>\n",
       "      <th>3</th>\n",
       "      <td>EARLY</td>\n",
       "      <td>famed is thy beauty majesty but hold a lovely ...</td>\n",
       "      <td>NON-P</td>\n",
       "      <td>Snow White</td>\n",
       "      <td>mirror</td>\n",
       "      <td>1937</td>\n",
       "      <td>4</td>\n",
       "      <td>122</td>\n",
       "      <td>VBN VBZ JJ NN NN CC VBP DT JJ NN NN VBP NNS VB...</td>\n",
       "    </tr>\n",
       "    <tr>\n",
       "      <th>4</th>\n",
       "      <td>EARLY</td>\n",
       "      <td>alas for her reveal her name</td>\n",
       "      <td>NON-P</td>\n",
       "      <td>Snow White</td>\n",
       "      <td>queen</td>\n",
       "      <td>1937</td>\n",
       "      <td>5</td>\n",
       "      <td>28</td>\n",
       "      <td>NN IN PRP$ NN PRP$ NN</td>\n",
       "    </tr>\n",
       "    <tr>\n",
       "      <th>...</th>\n",
       "      <td>...</td>\n",
       "      <td>...</td>\n",
       "      <td>...</td>\n",
       "      <td>...</td>\n",
       "      <td>...</td>\n",
       "      <td>...</td>\n",
       "      <td>...</td>\n",
       "      <td>...</td>\n",
       "      <td>...</td>\n",
       "    </tr>\n",
       "    <tr>\n",
       "      <th>7743</th>\n",
       "      <td>LATE</td>\n",
       "      <td>we are never closing them again</td>\n",
       "      <td>PRINCESS</td>\n",
       "      <td>Frozen</td>\n",
       "      <td>elsa</td>\n",
       "      <td>2013</td>\n",
       "      <td>984</td>\n",
       "      <td>31</td>\n",
       "      <td>PRP VBP RB VBG PRP RB</td>\n",
       "    </tr>\n",
       "    <tr>\n",
       "      <th>7744</th>\n",
       "      <td>LATE</td>\n",
       "      <td>form on anna s boots</td>\n",
       "      <td>PRINCESS</td>\n",
       "      <td>Frozen</td>\n",
       "      <td>elsa</td>\n",
       "      <td>2013</td>\n",
       "      <td>985</td>\n",
       "      <td>20</td>\n",
       "      <td>NN IN NN NN NNS</td>\n",
       "    </tr>\n",
       "    <tr>\n",
       "      <th>7745</th>\n",
       "      <td>LATE</td>\n",
       "      <td>what oh elsa they re beautiful but you know i ...</td>\n",
       "      <td>PRINCESS</td>\n",
       "      <td>Frozen</td>\n",
       "      <td>anna</td>\n",
       "      <td>2013</td>\n",
       "      <td>986</td>\n",
       "      <td>55</td>\n",
       "      <td>WP VBZ NN PRP VBP JJ CC PRP VBP JJ VBP JJ NN</td>\n",
       "    </tr>\n",
       "    <tr>\n",
       "      <th>7746</th>\n",
       "      <td>LATE</td>\n",
       "      <td>look out reindeer coming through</td>\n",
       "      <td>NON-P</td>\n",
       "      <td>Frozen</td>\n",
       "      <td>kristoff</td>\n",
       "      <td>2013</td>\n",
       "      <td>987</td>\n",
       "      <td>32</td>\n",
       "      <td>VB RP NN VBG IN</td>\n",
       "    </tr>\n",
       "    <tr>\n",
       "      <th>7747</th>\n",
       "      <td>LATE</td>\n",
       "      <td>that s it glide and pivot and glide and pivot</td>\n",
       "      <td>NON-P</td>\n",
       "      <td>Frozen</td>\n",
       "      <td>olaf</td>\n",
       "      <td>2013</td>\n",
       "      <td>988</td>\n",
       "      <td>45</td>\n",
       "      <td>DT VBD PRP NN CC NN CC NN CC NN</td>\n",
       "    </tr>\n",
       "  </tbody>\n",
       "</table>\n",
       "<p>7748 rows × 9 columns</p>\n",
       "</div>"
      ],
      "text/plain": [
       "     Disney_Period                                               Text  \\\n",
       "0            EARLY  slave in the magic mirror come from the farthe...   \n",
       "1            EARLY                    what wouldst thou know my queen   \n",
       "2            EARLY  magic mirror on the wall who is the fairest on...   \n",
       "3            EARLY  famed is thy beauty majesty but hold a lovely ...   \n",
       "4            EARLY                       alas for her reveal her name   \n",
       "...            ...                                                ...   \n",
       "7743          LATE                    we are never closing them again   \n",
       "7744          LATE                               form on anna s boots   \n",
       "7745          LATE  what oh elsa they re beautiful but you know i ...   \n",
       "7746          LATE                   look out reindeer coming through   \n",
       "7747          LATE      that s it glide and pivot and glide and pivot   \n",
       "\n",
       "     Speaker_Status        Movie    Speaker  Year  UTTERANCE_NUMBER  Length  \\\n",
       "0             NON-P  Snow White       queen  1937                 1     120   \n",
       "1             NON-P  Snow White      mirror  1937                 2      31   \n",
       "2             NON-P  Snow White       queen  1937                 3      54   \n",
       "3             NON-P  Snow White      mirror  1937                 4     122   \n",
       "4             NON-P  Snow White       queen  1937                 5      28   \n",
       "...             ...          ...        ...   ...               ...     ...   \n",
       "7743       PRINCESS      Frozen        elsa  2013               984      31   \n",
       "7744       PRINCESS      Frozen        elsa  2013               985      20   \n",
       "7745       PRINCESS      Frozen        anna  2013               986      55   \n",
       "7746          NON-P      Frozen   kristoff   2013               987      32   \n",
       "7747          NON-P      Frozen       olaf   2013               988      45   \n",
       "\n",
       "                                                    POS  \n",
       "0     NN IN DT JJ NN VBN IN DT JJS NN IN NN CC NN NN...  \n",
       "1                                  WP VBZ NN VB PRP$ NN  \n",
       "2                 JJ NN IN DT NN WP VBZ DT JJS CD IN DT  \n",
       "3     VBN VBZ JJ NN NN CC VBP DT JJ NN NN VBP NNS VB...  \n",
       "4                                 NN IN PRP$ NN PRP$ NN  \n",
       "...                                                 ...  \n",
       "7743                              PRP VBP RB VBG PRP RB  \n",
       "7744                                    NN IN NN NN NNS  \n",
       "7745       WP VBZ NN PRP VBP JJ CC PRP VBP JJ VBP JJ NN  \n",
       "7746                                    VB RP NN VBG IN  \n",
       "7747                    DT VBD PRP NN CC NN CC NN CC NN  \n",
       "\n",
       "[7748 rows x 9 columns]"
      ]
     },
     "execution_count": 79,
     "metadata": {},
     "output_type": "execute_result"
    }
   ],
   "source": [
    "df['Text'] = df['Text'].apply(lemmatize)\n",
    "df['POS'] = df['Text'].apply(parse)\n",
    "df"
   ]
  },
  {
   "cell_type": "code",
   "execution_count": 33,
   "metadata": {},
   "outputs": [
    {
     "data": {
      "text/plain": [
       "47.62712958182757"
      ]
     },
     "execution_count": 33,
     "metadata": {},
     "output_type": "execute_result"
    }
   ],
   "source": [
    "mean = df['Length'].mean()\n",
    "mean"
   ]
  }
 ],
 "metadata": {
  "interpreter": {
   "hash": "aecd030d4c8316a52bf122072e28f84bcc79844c2684e041fef2e3f1d9f59078"
  },
  "kernelspec": {
   "display_name": "Python 3.10.2 64-bit",
   "language": "python",
   "name": "python3"
  },
  "language_info": {
   "codemirror_mode": {
    "name": "ipython",
    "version": 3
   },
   "file_extension": ".py",
   "mimetype": "text/x-python",
   "name": "python",
   "nbconvert_exporter": "python",
   "pygments_lexer": "ipython3",
   "version": "3.10.2"
  },
  "orig_nbformat": 4
 },
 "nbformat": 4,
 "nbformat_minor": 2
}
